{
 "cells": [
  {
   "cell_type": "code",
   "execution_count": 1,
   "id": "6670ee07",
   "metadata": {},
   "outputs": [],
   "source": [
    "import os\n",
    "import argparse\n",
    "\n",
    "import numpy as np\n",
    "import matplotlib.pyplot as plt\n",
    "import torch\n",
    "import torchvision"
   ]
  },
  {
   "cell_type": "markdown",
   "id": "b90bec70",
   "metadata": {},
   "source": [
    "here you can find a checkpoint of deeplab trained on coco + scannet\n",
    "(without towels and the 3 other-* classes):"
   ]
  },
  {
   "cell_type": "code",
   "execution_count": 2,
   "id": "cc8cba3d",
   "metadata": {},
   "outputs": [],
   "source": [
    "BASE = '/home/he/projects/cl_seg/src/deeplab'\n",
    "RESUME = '2987_deeplab_scannet_best.pth'"
   ]
  },
  {
   "cell_type": "code",
   "execution_count": 3,
   "id": "3e1983e1",
   "metadata": {
    "scrolled": true
   },
   "outputs": [
    {
     "name": "stdout",
     "output_type": "stream",
     "text": [
      "Loaded!\n"
     ]
    }
   ],
   "source": [
    "model = torchvision.models.segmentation.deeplabv3_resnet101(\n",
    "    pretrained=False,\n",
    "    pretrained_backbone=False,\n",
    "    progress=True,\n",
    "    num_classes=40,\n",
    "    aux_loss=None)\n",
    "ckpt_path = os.path.join(BASE, RESUME)\n",
    "checkpoint = torch.load(ckpt_path)\n",
    "# remove any aux classifier stuff\n",
    "removekeys = [\n",
    "    key for key in checkpoint.keys() if key.startswith('aux_classifier')\n",
    "]\n",
    "for key in removekeys:\n",
    "    del checkpoint[key]\n",
    "model.load_state_dict(checkpoint, strict=True)\n",
    "model.to('cuda')\n",
    "model.eval()\n",
    "print(\"Loaded!\")"
   ]
  },
  {
   "cell_type": "markdown",
   "id": "05399ecd",
   "metadata": {},
   "source": [
    "- output: `(4): Conv2d(256, 40, kernel_size=(1, 1), stride=(1, 1))`"
   ]
  },
  {
   "cell_type": "markdown",
   "id": "0bdb63eb",
   "metadata": {},
   "source": [
    "- reference: https://pytorch.org/hub/pytorch_vision_deeplabv3_resnet101/"
   ]
  },
  {
   "cell_type": "code",
   "execution_count": 4,
   "id": "6b64f38e",
   "metadata": {},
   "outputs": [],
   "source": [
    "SCANNET_FRAMES_25K_PATH = '/home/he/data/cl_seg/scannet/scannet_frames_25k'\n",
    "SCENE = 'scene0000_00'\n",
    "EXAMPLE_IMG = '000000' # from 000000 to 005500"
   ]
  },
  {
   "cell_type": "code",
   "execution_count": 5,
   "id": "45603530",
   "metadata": {},
   "outputs": [],
   "source": [
    "color_img_name = os.path.join(SCANNET_FRAMES_25K_PATH, SCENE, 'color', EXAMPLE_IMG+'.jpg')\n",
    "lbl_img_name = os.path.join(SCANNET_FRAMES_25K_PATH, SCENE, 'label', EXAMPLE_IMG+'.png')"
   ]
  },
  {
   "cell_type": "code",
   "execution_count": 6,
   "id": "64dcb0b5",
   "metadata": {},
   "outputs": [],
   "source": [
    "_imagenet_stats = {'mean': [0.485, 0.456, 0.406], 'std': [0.229, 0.224, 0.225]}"
   ]
  },
  {
   "cell_type": "markdown",
   "id": "10f9a350",
   "metadata": {},
   "source": [
    "- without Normalize()"
   ]
  },
  {
   "cell_type": "code",
   "execution_count": 7,
   "id": "c497e8d7",
   "metadata": {},
   "outputs": [],
   "source": [
    "# sample execution (requires torchvision)\n",
    "from PIL import Image\n",
    "from torchvision import transforms\n",
    "input_image = Image.open(color_img_name)\n",
    "input_image = input_image.convert(\"RGB\")\n",
    "preprocess = transforms.Compose([\n",
    "    transforms.ToTensor(),\n",
    "    # transforms.Normalize(mean=_imagenet_stats['mean'], std=_imagenet_stats['std']),\n",
    "])\n",
    "\n",
    "input_tensor = preprocess(input_image)\n",
    "input_batch = input_tensor.unsqueeze(0) # create a mini-batch as expected by the model\n",
    "\n",
    "# move the input and model to GPU for speed if available\n",
    "if torch.cuda.is_available():\n",
    "    input_batch = input_batch.to('cuda')\n",
    "    model.to('cuda')\n",
    "\n",
    "# make a prediction\n",
    "with torch.no_grad():\n",
    "    output = model(input_batch)['out'][0]\n",
    "class_predictions = output.argmax(0)\n",
    "\n",
    "# logits = model(image)['out']\n",
    "# _, prediction = torch.max(logits, 1)\n",
    "_, prediction = torch.max(output, 0)"
   ]
  },
  {
   "cell_type": "markdown",
   "id": "7d850727",
   "metadata": {},
   "source": [
    "- with Normalize()"
   ]
  },
  {
   "cell_type": "code",
   "execution_count": 8,
   "id": "30e23b9e",
   "metadata": {},
   "outputs": [],
   "source": [
    "preprocess = transforms.Compose([\n",
    "    transforms.ToTensor(),\n",
    "    transforms.Normalize(mean=_imagenet_stats['mean'], std=_imagenet_stats['std']),\n",
    "])\n",
    "\n",
    "input_tensor = preprocess(input_image)\n",
    "input_batch = input_tensor.unsqueeze(0) # create a mini-batch as expected by the model\n",
    "\n",
    "# move the input and model to GPU for speed if available\n",
    "if torch.cuda.is_available():\n",
    "    input_batch = input_batch.to('cuda')\n",
    "    model.to('cuda')\n",
    "\n",
    "# make a prediction\n",
    "with torch.no_grad():\n",
    "    output = model(input_batch)['out'][0]\n",
    "class_predictions2 = output.argmax(0)\n",
    "\n",
    "# logits = model(image)['out']\n",
    "# _, prediction = torch.max(logits, 1)\n",
    "_, prediction2 = torch.max(output, 0)"
   ]
  },
  {
   "cell_type": "code",
   "execution_count": 9,
   "id": "213ab64b",
   "metadata": {},
   "outputs": [
    {
     "data": {
      "text/plain": [
       "tensor([[-4.7141, -4.7141, -4.7141,  ..., -4.0566, -4.0566, -4.0566],\n",
       "        [-4.7141, -4.7141, -4.7141,  ..., -4.0566, -4.0566, -4.0566],\n",
       "        [-4.7141, -4.7141, -4.7141,  ..., -4.0566, -4.0566, -4.0566],\n",
       "        ...,\n",
       "        [-5.7391, -5.7391, -5.7391,  ..., -5.8906, -5.8906, -5.8906],\n",
       "        [-5.7391, -5.7391, -5.7391,  ..., -5.8906, -5.8906, -5.8906],\n",
       "        [-5.7391, -5.7391, -5.7391,  ..., -5.8906, -5.8906, -5.8906]],\n",
       "       device='cuda:0')"
      ]
     },
     "execution_count": 9,
     "metadata": {},
     "output_type": "execute_result"
    }
   ],
   "source": [
    "output.shape\n",
    "output[0,:, :]"
   ]
  },
  {
   "cell_type": "code",
   "execution_count": 10,
   "id": "ede66059",
   "metadata": {},
   "outputs": [
    {
     "name": "stdout",
     "output_type": "stream",
     "text": [
      "[ 0  1  3  4  5  6  7  9 13 14 16 20 21 31 34 36]\n"
     ]
    }
   ],
   "source": [
    "prediction_np = class_predictions.cpu().detach()\n",
    "print(np.unique(prediction_np))"
   ]
  },
  {
   "cell_type": "code",
   "execution_count": 11,
   "id": "9734166e",
   "metadata": {},
   "outputs": [],
   "source": [
    "from viz_label import create_color_palette"
   ]
  },
  {
   "cell_type": "markdown",
   "id": "51513597",
   "metadata": {},
   "source": [
    "- viz without Normalize()"
   ]
  },
  {
   "cell_type": "code",
   "execution_count": 12,
   "id": "84552236",
   "metadata": {},
   "outputs": [
    {
     "data": {
      "text/plain": [
       "<matplotlib.image.AxesImage at 0x7f6a4ede93d0>"
      ]
     },
     "execution_count": 12,
     "metadata": {},
     "output_type": "execute_result"
    },
    {
     "data": {
      "image/png": "[encoded data removed]",
      "text/plain": [
       "<Figure size 432x288 with 1 Axes>"
      ]
     },
     "metadata": {
      "needs_background": "light"
     },
     "output_type": "display_data"
    }
   ],
   "source": [
    "image = class_predictions.cpu().detach()\n",
    "height = image.shape[0]\n",
    "width = image.shape[1]\n",
    "vis_image = np.zeros([height, width, 3], dtype=np.uint8)\n",
    "color_palette = create_color_palette(dataset='nyu40')\n",
    "for idx, color in enumerate(color_palette):\n",
    "    vis_image[image == idx] = color\n",
    "\n",
    "plt.imshow(vis_image)"
   ]
  },
  {
   "cell_type": "markdown",
   "id": "2e9d7b81",
   "metadata": {},
   "source": [
    "- viz with Normalize()"
   ]
  },
  {
   "cell_type": "code",
   "execution_count": 13,
   "id": "18875a70",
   "metadata": {},
   "outputs": [
    {
     "data": {
      "text/plain": [
       "<matplotlib.image.AxesImage at 0x7f6a4dcbe460>"
      ]
     },
     "execution_count": 13,
     "metadata": {},
     "output_type": "execute_result"
    },
    {
     "data": {
      "image/png": "[encoded data removed]",
      "text/plain": [
       "<Figure size 432x288 with 1 Axes>"
      ]
     },
     "metadata": {
      "needs_background": "light"
     },
     "output_type": "display_data"
    }
   ],
   "source": [
    "image = class_predictions2.cpu().detach()\n",
    "height = image.shape[0]\n",
    "width = image.shape[1]\n",
    "vis_image = np.zeros([height, width, 3], dtype=np.uint8)\n",
    "color_palette = create_color_palette(dataset='nyu40')\n",
    "for idx, color in enumerate(color_palette):\n",
    "    vis_image[image == idx] = color\n",
    "\n",
    "plt.imshow(vis_image)"
   ]
  },
  {
   "cell_type": "markdown",
   "id": "c8131e0a",
   "metadata": {},
   "source": [
    "- vis label image"
   ]
  },
  {
   "cell_type": "code",
   "execution_count": 14,
   "id": "fdd318e9",
   "metadata": {},
   "outputs": [
    {
     "name": "stdout",
     "output_type": "stream",
     "text": [
      "[ 0  1  2  3  7 14 16]\n"
     ]
    }
   ],
   "source": [
    "lbl_image = Image.open(lbl_img_name)\n",
    "lbl_image = np.asarray(lbl_image)\n",
    "lbl_image\n",
    "print(np.unique(lbl_image))"
   ]
  },
  {
   "cell_type": "code",
   "execution_count": 15,
   "id": "c22f8c10",
   "metadata": {},
   "outputs": [
    {
     "data": {
      "text/plain": [
       "<matplotlib.image.AxesImage at 0x7f6a4dcad280>"
      ]
     },
     "execution_count": 15,
     "metadata": {},
     "output_type": "execute_result"
    },
    {
     "data": {
      "image/png": "[encoded data removed]",
      "text/plain": [
       "<Figure size 432x288 with 1 Axes>"
      ]
     },
     "metadata": {
      "needs_background": "light"
     },
     "output_type": "display_data"
    }
   ],
   "source": [
    "\n",
    "height = lbl_image.shape[0]\n",
    "width = lbl_image.shape[1]\n",
    "lbl_vis_image = np.zeros([height, width, 3], dtype=np.uint8)\n",
    "color_palette = create_color_palette(dataset='nyu40')\n",
    "for idx, color in enumerate(color_palette):\n",
    "    lbl_vis_image[lbl_image == idx] = color\n",
    "\n",
    "plt.imshow(lbl_vis_image)"
   ]
  },
  {
   "cell_type": "code",
   "execution_count": 15,
   "id": "d224ebae",
   "metadata": {},
   "outputs": [],
   "source": [
    "# import imageio\n",
    "# imageio.imwrite(filename, vis_image)"
   ]
  },
  {
   "cell_type": "code",
   "execution_count": 16,
   "id": "85354404",
   "metadata": {},
   "outputs": [],
   "source": [
    "# # create a color pallette, selecting a color for each class\n",
    "# palette = torch.tensor([2 ** 25 - 1, 2 ** 15 - 1, 2 ** 21 - 1])\n",
    "# colors = torch.as_tensor([i for i in range(21)])[:, None] * palette\n",
    "# colors = (colors % 255).numpy().astype(\"uint8\")\n",
    "\n",
    "# # plot the semantic segmentation predictions of 21 classes in each color\n",
    "# r = Image.fromarray(class_predictions.byte().cpu().numpy()).resize(input_image.size)\n",
    "# r.putpalette(colors)\n",
    "\n",
    "# plt.imshow(r)"
   ]
  },
  {
   "cell_type": "code",
   "execution_count": null,
   "id": "05458f70",
   "metadata": {},
   "outputs": [],
   "source": []
  }
 ],
 "metadata": {
  "kernelspec": {
   "display_name": "Python 3 (ipykernel)",
   "language": "python",
   "name": "python3"
  },
  "language_info": {
   "codemirror_mode": {
    "name": "ipython",
    "version": 3
   },
   "file_extension": ".py",
   "mimetype": "text/x-python",
   "name": "python",
   "nbconvert_exporter": "python",
   "pygments_lexer": "ipython3",
   "version": "3.8.13"
  },
  "toc": {
   "base_numbering": 1,
   "nav_menu": {},
   "number_sections": true,
   "sideBar": true,
   "skip_h1_title": false,
   "title_cell": "Table of Contents",
   "title_sidebar": "Contents",
   "toc_cell": false,
   "toc_position": {},
   "toc_section_display": true,
   "toc_window_display": false
  }
 },
 "nbformat": 4,
 "nbformat_minor": 5
}
